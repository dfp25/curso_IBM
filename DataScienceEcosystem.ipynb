{
 "cells": [
  {
   "cell_type": "markdown",
   "id": "99d2412d-9ce4-4be9-9c21-762fe7dbed61",
   "metadata": {},
   "source": [
    "# Data Science Tools and Ecosystem"
   ]
  },
  {
   "cell_type": "markdown",
   "id": "ee640037-b54e-4ae9-b25c-5f729a0c510f",
   "metadata": {},
   "source": [
    "In this notebook, Data Science Tools and Ecosystem are summarized."
   ]
  },
  {
   "cell_type": "markdown",
   "id": "54722fcb-1e7c-4b8f-8505-a9bc3dd3c562",
   "metadata": {},
   "source": [
    "**Objectives:**\n",
    "* List popular languages for Data Science.\n",
    "* List popular tools for data science.\n",
    "* How works Github.\n",
    "* What is R.\n",
    "* Other tools for Data Science."
   ]
  },
  {
   "cell_type": "markdown",
   "id": "d18601ba-f731-4746-a77e-40f0d6f2509b",
   "metadata": {},
   "source": [
    "Some of the popular languages that Data Scientists use are:\n",
    "1. Pyton\n",
    "2. R\n",
    "3. Scala"
   ]
  },
  {
   "cell_type": "markdown",
   "id": "b4b1fac5-754d-4b35-a43d-20f44467463e",
   "metadata": {},
   "source": [
    "Some of the commonly used libraries used by Data Scientists include:\n",
    "1. numpy\n",
    "2. pandas\n",
    "3. matplotlib"
   ]
  },
  {
   "cell_type": "markdown",
   "id": "c7cebe9a-7e1c-46be-afe3-ab71d99c411b",
   "metadata": {},
   "source": [
    "|Data Science Tools   |\n",
    "|---|\n",
    "|Jupyter Notebook   |\n",
    "|RStudio   |\n",
    "|Apache Zeppelin   |"
   ]
  },
  {
   "cell_type": "markdown",
   "id": "b9a4fd62-f89f-4b68-96de-737e8b42cdc5",
   "metadata": {},
   "source": [
    "### Below are a few examples of evaluating arithmetic expressions in Python"
   ]
  },
  {
   "cell_type": "markdown",
   "id": "766e419c-b7b2-40b3-aeea-9012c5adaea8",
   "metadata": {},
   "source": [
    "This a simple arithmetic expression to mutiply then add integers"
   ]
  },
  {
   "cell_type": "code",
   "execution_count": 2,
   "id": "43d2bd9c-e49e-477b-baf9-727b9b769f02",
   "metadata": {},
   "outputs": [
    {
     "data": {
      "text/plain": [
       "17"
      ]
     },
     "execution_count": 2,
     "metadata": {},
     "output_type": "execute_result"
    }
   ],
   "source": [
    "(3*4)+5"
   ]
  },
  {
   "cell_type": "markdown",
   "id": "3c595cfd-a4a7-4933-a9f8-991fb33c565c",
   "metadata": {},
   "source": [
    " This will convert 200 minutes to hours by diving by 60"
   ]
  },
  {
   "cell_type": "code",
   "execution_count": 4,
   "id": "a343a182-35f4-4bd9-b07c-5563ab5cbeba",
   "metadata": {},
   "outputs": [
    {
     "data": {
      "text/plain": [
       "3"
      ]
     },
     "execution_count": 4,
     "metadata": {},
     "output_type": "execute_result"
    }
   ],
   "source": [
    "200//60"
   ]
  },
  {
   "cell_type": "markdown",
   "id": "87babc1d-a11d-4544-934b-0103916ae051",
   "metadata": {},
   "source": [
    "## Author\n",
    "Daniel Flores"
   ]
  },
  {
   "cell_type": "code",
   "execution_count": null,
   "id": "ff8b7d04-1753-4835-8ecf-89a39651b208",
   "metadata": {},
   "outputs": [],
   "source": []
  },
  {
   "cell_type": "code",
   "execution_count": null,
   "id": "ad784a22-a270-4dc6-9a9f-65dea16962c8",
   "metadata": {},
   "outputs": [],
   "source": []
  },
  {
   "cell_type": "code",
   "execution_count": null,
   "id": "9e541d8f-15c9-466c-b7c8-385d25b63503",
   "metadata": {},
   "outputs": [],
   "source": []
  },
  {
   "cell_type": "code",
   "execution_count": null,
   "id": "1f8aab3a-af52-4b38-836f-aa0ee14b1996",
   "metadata": {},
   "outputs": [],
   "source": []
  },
  {
   "cell_type": "code",
   "execution_count": null,
   "id": "6f065fa3-a18e-4716-9a7e-69e47370cb56",
   "metadata": {},
   "outputs": [],
   "source": []
  }
 ],
 "metadata": {
  "kernelspec": {
   "display_name": "Python 3 (ipykernel)",
   "language": "python",
   "name": "python3"
  },
  "language_info": {
   "codemirror_mode": {
    "name": "ipython",
    "version": 3
   },
   "file_extension": ".py",
   "mimetype": "text/x-python",
   "name": "python",
   "nbconvert_exporter": "python",
   "pygments_lexer": "ipython3",
   "version": "3.12.7"
  }
 },
 "nbformat": 4,
 "nbformat_minor": 5
}
